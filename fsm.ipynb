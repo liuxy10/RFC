{
 "cells": [
  {
   "cell_type": "code",
   "execution_count": null,
   "metadata": {},
   "outputs": [],
   "source": [
    "\n",
    "from statemachine import StateMachine, State\n",
    "\n",
    "class WalkMachine(StateMachine):\n",
    "    \"\"\"2 states fsm: \"\"\"\n",
    "    SW = State(initial=True)\n",
    "    # yellow = State()\n",
    "    ST = State()\n",
    "\n",
    "    cycle = (\n",
    "        SW.to(ST)\n",
    "        | ST.to(SW)\n",
    "    )\n",
    "\n",
    "    def before_cycle(self, event: str, source: State, target: State, message: str = \"\"):\n",
    "        message = \". \" + message if message else \"\"\n",
    "        return f\"Running {event} from {source.id} to {target.id}{message}\"\n",
    "\n",
    "    def on_enter_ST(self):\n",
    "        print(\"prothetic leg landing\")\n",
    "\n",
    "    def on_exit_ST(self): \n",
    "        print(\"prothetic leg lift\")\n",
    "\n",
    "\n",
    "class protheticKnee():\n",
    "    def ___init__(self):\n",
    "        self.sm = WalkMachine()\n",
    "        self.sensors = []\n",
    "        self.actuators = []\n",
    "        \n",
    "        "
   ]
  },
  {
   "cell_type": "code",
   "execution_count": 13,
   "metadata": {},
   "outputs": [],
   "source": [
    "sm = WalkMachine()  # On initialization, the machine run a special event `__initial__`\n",
    "# Entering 'initial' state from '__initial__' event.\n"
   ]
  },
  {
   "cell_type": "code",
   "execution_count": 14,
   "metadata": {},
   "outputs": [],
   "source": [
    "img_path = \"fsm_test.png\"\n",
    "sm._graph().write_png(img_path)\n"
   ]
  }
 ],
 "metadata": {
  "kernelspec": {
   "display_name": "rfc",
   "language": "python",
   "name": "python3"
  },
  "language_info": {
   "codemirror_mode": {
    "name": "ipython",
    "version": 3
   },
   "file_extension": ".py",
   "mimetype": "text/x-python",
   "name": "python",
   "nbconvert_exporter": "python",
   "pygments_lexer": "ipython3",
   "version": "3.8.20"
  }
 },
 "nbformat": 4,
 "nbformat_minor": 2
}
