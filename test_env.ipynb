{
 "cells": [
  {
   "cell_type": "code",
   "execution_count": 1,
   "metadata": {},
   "outputs": [
    {
     "ename": "NameError",
     "evalue": "name 'parser' is not defined",
     "output_type": "error",
     "traceback": [
      "\u001b[0;31m---------------------------------------------------------------------------\u001b[0m",
      "\u001b[0;31mNameError\u001b[0m                                 Traceback (most recent call last)",
      "Cell \u001b[0;32mIn[1], line 29\u001b[0m\n\u001b[1;32m     16\u001b[0m \u001b[38;5;28;01mfrom\u001b[39;00m \u001b[38;5;21;01mmotion_imitation\u001b[39;00m\u001b[38;5;21;01m.\u001b[39;00m\u001b[38;5;21;01mutils\u001b[39;00m\u001b[38;5;21;01m.\u001b[39;00m\u001b[38;5;21;01mconfig\u001b[39;00m \u001b[38;5;28;01mimport\u001b[39;00m Config\n\u001b[1;32m     18\u001b[0m \u001b[38;5;66;03m# parser = argparse.ArgumentParser()\u001b[39;00m\n\u001b[1;32m     19\u001b[0m \u001b[38;5;66;03m# parser.add_argument('--cfg', default=None)\u001b[39;00m\n\u001b[1;32m     20\u001b[0m \u001b[38;5;66;03m# parser.add_argument('--vis_model_file', default='mocap_v2_vis')\u001b[39;00m\n\u001b[0;32m   (...)\u001b[0m\n\u001b[1;32m     27\u001b[0m \u001b[38;5;66;03m# parser.add_argument('--azimuth', type=float, default=45)\u001b[39;00m\n\u001b[1;32m     28\u001b[0m \u001b[38;5;66;03m# parser.add_argument('--video_dir', default='out/videos/motion_im')\u001b[39;00m\n\u001b[0;32m---> 29\u001b[0m args \u001b[38;5;241m=\u001b[39m \u001b[43mparser\u001b[49m\u001b[38;5;241m.\u001b[39mparse_args()\n\u001b[1;32m     30\u001b[0m cfg \u001b[38;5;241m=\u001b[39m Config(args\u001b[38;5;241m.\u001b[39mcfg, \u001b[38;5;28;01mFalse\u001b[39;00m, create_dirs\u001b[38;5;241m=\u001b[39m\u001b[38;5;28;01mFalse\u001b[39;00m)\n\u001b[1;32m     31\u001b[0m cfg\u001b[38;5;241m.\u001b[39menv_start_first \u001b[38;5;241m=\u001b[39m \u001b[38;5;28;01mTrue\u001b[39;00m\n",
      "\u001b[0;31mNameError\u001b[0m: name 'parser' is not defined"
     ]
    }
   ],
   "source": [
    "import argparse\n",
    "import os\n",
    "import sys\n",
    "import pickle\n",
    "import time\n",
    "import subprocess\n",
    "import shutil\n",
    "sys.path.append(os.getcwd())\n",
    "\n",
    "from khrylib.utils import *\n",
    "from khrylib.rl.utils.visualizer import Visualizer\n",
    "from khrylib.rl.core.policy_gaussian import PolicyGaussian\n",
    "from khrylib.rl.core.critic import Value\n",
    "from khrylib.models.mlp import MLP\n",
    "from motion_imitation.envs.humanoid_im import HumanoidEnv\n",
    "from motion_imitation.utils.config import Config\n",
    "\n",
    "# parser = argparse.ArgumentParser()\n",
    "# parser.add_argument('--cfg', default=None)\n",
    "# parser.add_argument('--vis_model_file', default='mocap_v2_vis')\n",
    "# parser.add_argument('--iter', type=int, default=-1)\n",
    "# parser.add_argument('--focus', action='store_true', default=True)\n",
    "# parser.add_argument('--hide_expert', action='store_true', default=False)\n",
    "# parser.add_argument('--preview', action='store_true', default=False)\n",
    "# parser.add_argument('--record', action='store_true', default=False)\n",
    "# parser.add_argument('--record_expert', action='store_true', default=False)\n",
    "# parser.add_argument('--azimuth', type=float, default=45)\n",
    "# parser.add_argument('--video_dir', default='out/videos/motion_im')\n",
    "args = parser.parse_args()\n",
    "cfg = Config(args.cfg, False, create_dirs=False)\n",
    "cfg.env_start_first = True\n",
    "logger = create_logger(os.path.join(cfg.log_dir, 'log_eval.txt'))\n",
    "\n",
    "\"\"\"make and seed env\"\"\"\n",
    "dtype = torch.float64\n",
    "torch.set_default_dtype(dtype)\n",
    "torch.manual_seed(cfg.seed)\n",
    "torch.set_grad_enabled(False)\n",
    "env = HumanoidEnv(cfg)\n",
    "env.seed(cfg.seed)\n"
   ]
  },
  {
   "cell_type": "code",
   "execution_count": null,
   "metadata": {},
   "outputs": [],
   "source": []
  }
 ],
 "metadata": {
  "kernelspec": {
   "display_name": "rfc",
   "language": "python",
   "name": "python3"
  },
  "language_info": {
   "codemirror_mode": {
    "name": "ipython",
    "version": 3
   },
   "file_extension": ".py",
   "mimetype": "text/x-python",
   "name": "python",
   "nbconvert_exporter": "python",
   "pygments_lexer": "ipython3",
   "version": "3.8.20"
  },
  "orig_nbformat": 4,
  "vscode": {
   "interpreter": {
    "hash": "8759c7b4e91af5be3b5cdbb739b91fbe7a86b22be2dd75ac972bb04b2caba37d"
   }
  }
 },
 "nbformat": 4,
 "nbformat_minor": 2
}
